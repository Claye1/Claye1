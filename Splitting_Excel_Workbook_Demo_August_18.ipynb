{
  "nbformat": 4,
  "nbformat_minor": 0,
  "metadata": {
    "colab": {
      "provenance": [],
      "mount_file_id": "1QIAawaW7qHrfT20BwO00TlV81ozSPuwf",
      "authorship_tag": "ABX9TyMp7YHTWBtsMaf8wvb5XSot",
      "include_colab_link": true
    },
    "kernelspec": {
      "name": "python3",
      "display_name": "Python 3"
    },
    "language_info": {
      "name": "python"
    }
  },
  "cells": [
    {
      "cell_type": "markdown",
      "metadata": {
        "id": "view-in-github",
        "colab_type": "text"
      },
      "source": [
        "<a href=\"https://colab.research.google.com/github/Claye1/Claye1/blob/main/Splitting_Excel_Workbook_Demo_August_18.ipynb\" target=\"_parent\"><img src=\"https://colab.research.google.com/assets/colab-badge.svg\" alt=\"Open In Colab\"/></a>"
      ]
    },
    {
      "cell_type": "code",
      "execution_count": 1,
      "metadata": {
        "colab": {
          "base_uri": "https://localhost:8080/"
        },
        "id": "5jCKkcFzXFov",
        "outputId": "860b0553-ec5e-4f6e-f4ef-4a447a65685e"
      },
      "outputs": [
        {
          "output_type": "stream",
          "name": "stdout",
          "text": [
            "Sheet \"New Report\" has been saved as \"New Report.xlsx\".\n",
            "Sheet \"Wholesale of clothing and footw\" has been saved as \"Wholesale of clothing and footw.xlsx\".\n",
            "Sheet \"Video production activities\" has been saved as \"Video production activities.xlsx\".\n",
            "Sheet \"Unlicensed restaurants and cafe\" has been saved as \"Unlicensed restaurants and cafe.xlsx\".\n",
            "Sheet \"Technical and vocational second\" has been saved as \"Technical and vocational second.xlsx\".\n",
            "Sheet \"Take away food shops and mobile\" has been saved as \"Take away food shops and mobile.xlsx\".\n",
            "Sheet \"Specialised design activities\" has been saved as \"Specialised design activities.xlsx\".\n",
            "Sheet \"Specialised cleaning services\" has been saved as \"Specialised cleaning services.xlsx\".\n",
            "Sheet \"Sale of other motor vehicles\" has been saved as \"Sale of other motor vehicles.xlsx\".\n",
            "Sheet \"Roofing activities\" has been saved as \"Roofing activities.xlsx\".\n",
            "Sheet \"Retail trade of motor vehicle p\" has been saved as \"Retail trade of motor vehicle p.xlsx\".\n",
            "Sheet \"Retail sale via mail order hous\" has been saved as \"Retail sale via mail order hous.xlsx\".\n",
            "Sheet \"Retail sale of tobacco products\" has been saved as \"Retail sale of tobacco products.xlsx\".\n",
            "Sheet \"Retail sale of textiles in spec\" has been saved as \"Retail sale of textiles in spec.xlsx\".\n",
            "Sheet \"Retail sale of footwear in spec\" has been saved as \"Retail sale of footwear in spec.xlsx\".\n",
            "Sheet \"Retail sale of electrical house\" has been saved as \"Retail sale of electrical house.xlsx\".\n",
            "Sheet \"Retail sale of clothing in spec\" has been saved as \"Retail sale of clothing in spec.xlsx\".\n",
            "Sheet \"Residential nursing care facili\" has been saved as \"Residential nursing care facili.xlsx\".\n",
            "Sheet \"Residential care activities for\" has been saved as \"Residential care activities for.xlsx\".\n",
            "Sheet \"Repair of machinery\" has been saved as \"Repair of machinery.xlsx\".\n",
            "Sheet \"Repair of electrical equipment\" has been saved as \"Repair of electrical equipment.xlsx\".\n",
            "Sheet \"Renting and leasing of cars and\" has been saved as \"Renting and leasing of cars and.xlsx\".\n",
            "Sheet \"Real estate agencies\" has been saved as \"Real estate agencies.xlsx\".\n",
            "Sheet \"Ready-made interactive leisure \" has been saved as \"Ready-made interactive leisure .xlsx\".\n",
            "Sheet \"Raising of other animals\" has been saved as \"Raising of other animals.xlsx\".\n",
            "Sheet \"Public relations and communicat\" has been saved as \"Public relations and communicat.xlsx\".\n",
            "Sheet \"Public houses and bars\" has been saved as \"Public houses and bars.xlsx\".\n",
            "Sheet \"Plumbing heat and airconditioni\" has been saved as \"Plumbing heat and airconditioni.xlsx\".\n",
            "Sheet \"Operation of warehousing and st\" has been saved as \"Operation of warehousing and st.xlsx\".\n",
            "Sheet \"Nonspecialised wholesale trade\" has been saved as \"Nonspecialised wholesale trade.xlsx\".\n",
            "Sheet \"Media representation services\" has been saved as \"Media representation services.xlsx\".\n",
            "Sheet \"Market research and public opin\" has been saved as \"Market research and public opin.xlsx\".\n",
            "Sheet \"Manufacture of other men's oute\" has been saved as \"Manufacture of other men's oute.xlsx\".\n",
            "Sheet \"Manufacture of other fabricated\" has been saved as \"Manufacture of other fabricated.xlsx\".\n",
            "Sheet \"Manufacture of luggage handbags\" has been saved as \"Manufacture of luggage handbags.xlsx\".\n",
            "Sheet \"Manufacture of household textil\" has been saved as \"Manufacture of household textil.xlsx\".\n",
            "Sheet \"Maintenance and repair of motor\" has been saved as \"Maintenance and repair of motor.xlsx\".\n",
            "Sheet \"Life insurance\" has been saved as \"Life insurance.xlsx\".\n",
            "Sheet \"Licensed restaurants\" has been saved as \"Licensed restaurants.xlsx\".\n",
            "Sheet \"Licensed carriers\" has been saved as \"Licensed carriers.xlsx\".\n",
            "Sheet \"Landscape service activities\" has been saved as \"Landscape service activities.xlsx\".\n",
            "Sheet \"Information technology consulta\" has been saved as \"Information technology consulta.xlsx\".\n",
            "Sheet \"Hairdressing and other beauty t\" has been saved as \"Hairdressing and other beauty t.xlsx\".\n",
            "Sheet \"General cleaning of buildings\" has been saved as \"General cleaning of buildings.xlsx\".\n",
            "Sheet \"Freight transport by road\" has been saved as \"Freight transport by road.xlsx\".\n",
            "Sheet \"Extraction of crude petroleum\" has been saved as \"Extraction of crude petroleum.xlsx\".\n",
            "Sheet \"Event catering activities\" has been saved as \"Event catering activities.xlsx\".\n",
            "Sheet \"Engineering related scientific \" has been saved as \"Engineering related scientific .xlsx\".\n",
            "Sheet \"Electrical installation\" has been saved as \"Electrical installation.xlsx\".\n",
            "Sheet \"Demolition\" has been saved as \"Demolition.xlsx\".\n",
            "Sheet \"Construction of railways\" has been saved as \"Construction of railways.xlsx\".\n",
            "Sheet \"Construction of domestic buildi\" has been saved as \"Construction of domestic buildi.xlsx\".\n",
            "Sheet \"Construction of commercial b\" has been saved as \"Construction of commercial b.xlsx\".\n",
            "Sheet \"Combined office administrative \" has been saved as \"Combined office administrative .xlsx\".\n",
            "Sheet \"Combined facilities support act\" has been saved as \"Combined facilities support act.xlsx\".\n",
            "Sheet \"Buying and selling of own real \" has been saved as \"Buying and selling of own real .xlsx\".\n",
            "Sheet \"Business and domestic software \" has been saved as \"Business and domestic software .xlsx\".\n",
            "Sheet \"Botanical and zoological garden\" has been saved as \"Botanical and zoological garden.xlsx\".\n",
            "Sheet \"Artistic creation\" has been saved as \"Artistic creation.xlsx\".\n",
            "Sheet \"Advertising agencies\" has been saved as \"Advertising agencies.xlsx\".\n",
            "Sheet \"Activities of Professional\" has been saved as \"Activities of Professional.xlsx\".\n",
            "Sheet \"OTHERS SICCode_Industry\" has been saved as \"OTHERS SICCode_Industry.xlsx\".\n",
            "Sheet \"DORMANT SIC Code\" has been saved as \"DORMANT SIC Code.xlsx\".\n"
          ]
        }
      ],
      "source": [
        "import pandas as pd\n",
        "\n",
        "# Load the Excel file\n",
        "input_file = '/content/drive/MyDrive/DEMOLYTICS PROJECT/New XeroData - Leesi 2/XeroData - LEESI 2.xlsx'  # Replace with your workbook name\n",
        "excel_file = pd.ExcelFile(input_file)\n",
        "\n",
        "# Loop through each sheet in the workbook\n",
        "for sheet_name in excel_file.sheet_names:\n",
        "    # Read the sheet into a DataFrame\n",
        "    df = pd.read_excel(input_file, sheet_name=sheet_name)\n",
        "\n",
        "    # Define the output file name\n",
        "    output_file = f'{sheet_name}.xlsx'\n",
        "\n",
        "    # Write the DataFrame to a new Excel file\n",
        "    df.to_excel(output_file, index=False)\n",
        "\n",
        "    print(f'Sheet \"{sheet_name}\" has been saved as \"{output_file}\".')\n"
      ]
    }
  ]
}